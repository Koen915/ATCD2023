{
 "cells": [
  {
   "cell_type": "code",
   "execution_count": 1,
   "id": "f60fa0e7-f1db-4539-a307-e4f4522f7b9a",
   "metadata": {},
   "outputs": [],
   "source": [
    "import os\n",
    "import struct\n",
    "import numpy as np\n",
    "import sys\n",
    "import gzip\n",
    "import shutil\n",
    "import matplotlib.pyplot as plt\n",
    "from sklearn.model_selection import ParameterGrid,train_test_split\n",
    "from sklearn.neural_network import MLPRegressor\n",
    "import warnings\n",
    "warnings.filterwarnings(\"ignore\")"
   ]
  },
  {
   "cell_type": "markdown",
   "id": "8b02a442-0c30-4dc9-a382-61c1861c9ac2",
   "metadata": {},
   "source": [
    "### Generate the noisy sin data and plot them "
   ]
  },
  {
   "cell_type": "code",
   "execution_count": 10,
   "id": "0bc58a83-e218-40fd-bf54-b52317fea85d",
   "metadata": {},
   "outputs": [
    {
     "data": {
      "image/png": "[encoded data removed]",
      "text/plain": [
       "<Figure size 432x288 with 1 Axes>"
      ]
     },
     "metadata": {
      "needs_background": "light"
     },
     "output_type": "display_data"
    }
   ],
   "source": [
    "n_samples=5000\n",
    "x_values=np.random.uniform(low=0,high=2*np.pi,size=n_samples)\n",
    "sin_wave=np.sin(x_values)+(0.1*np.random.randn(x_values.shape[0]))\n",
    "plt.plot(x_values,sin_wave,'.')\n",
    "plt.show()"
   ]
  },
  {
   "cell_type": "markdown",
   "id": "70be14db",
   "metadata": {},
   "source": [
    "### Defining the MLP "
   ]
  },
  {
   "cell_type": "markdown",
   "id": "c274403b-f619-4209-ae3b-56dd8b267142",
   "metadata": {},
   "source": [
    "To define the MLP the class MLPRegressor from sklearn has been used (see https://scikit-learn.org/stable/modules/generated/sklearn.neural_network.MLPRegressor.html), the parameter n_iter_no_change has been set equal to the number of epochs to be sure that the training procedure will run till the end. "
   ]
  },
  {
   "cell_type": "code",
   "execution_count": 11,
   "id": "17bb6b97-dd00-4d30-895f-73dfc97c994e",
   "metadata": {},
   "outputs": [],
   "source": [
    "class MLP():\n",
    "    \n",
    "    def _compute_cost(self, y, output):\n",
    "        \n",
    "        squared_weights_sum=0\n",
    "        weights=np.array(self.mlp.coefs_)\n",
    "        \n",
    "        for layer_weights in weights:\n",
    "            squared_weights_sum+=np.sum(layer_weights**2)\n",
    "            \n",
    "        L2_term = (self.l2 *\n",
    "                   (squared_weights_sum))\n",
    "        \n",
    "        cost = np.sum(np.square(output-y))/output.shape[0] + L2_term\n",
    "        return cost\n",
    "\n",
    "    \n",
    "    def __init__(self,n_hidden=100,seed=2,l2 = 0.001,epochs = 80,eta = 0.005,shuffle = True, minibatch_size = 100):\n",
    "        \n",
    "        self.n_hidden=n_hidden\n",
    "        self.seed=seed\n",
    "        self.l2 = l2\n",
    "        self.epochs = epochs\n",
    "        self.eta = eta\n",
    "        self.shuffle = shuffle\n",
    "        self.minibatch_size = minibatch_size\n",
    "        self.mlp=None\n",
    "        \n",
    "    def train(self,X_train,y_train,X_validation,y_validation):\n",
    "        \n",
    "        loss_curve_training=[]\n",
    "        loss_curve_validation=[]\n",
    "        \n",
    "        epoch_strlen = len(str(self.epochs))\n",
    "        self.eval_ = {'cost': [], 'train_mse': [], 'valid_mse': []}\n",
    "        \n",
    "        self.mlp=MLPRegressor(hidden_layer_sizes=self.n_hidden,activation='relu',max_iter=self.epochs,solver='adam',\n",
    "                                shuffle=self.shuffle,\n",
    "                                batch_size=self.minibatch_size,learning_rate_init=self.eta,verbose=False,alpha=self.l2,\n",
    "                                n_iter_no_change=self.epochs)\n",
    "        \n",
    "        for i in range(self.epochs):\n",
    "            \n",
    "            self.mlp.partial_fit(X_train,y_train)\n",
    "            y_pred_training=self.predict(X_train)\n",
    "            y_pred_validation=self.predict(X_validation)\n",
    "            mse_training=np.mean(np.square(y_train-y_pred_training))\n",
    "            mse_validation=np.mean(np.square(y_validation-y_pred_validation))\n",
    "            \n",
    "            loss_curve_training.append(mse_training)\n",
    "            loss_curve_validation.append(mse_validation)\n",
    "            \n",
    "            cost = self._compute_cost(y=y_train,\n",
    "                                      output=y_pred_training)\n",
    "            \n",
    "\n",
    "            sys.stderr.write('\\r%0*d/%d | Cost: %.2f '\n",
    "                             '| Train/Valid MSE.: %.2f/%.2f ' %\n",
    "                             (epoch_strlen, i+1, self.epochs, cost,\n",
    "                              mse_training, mse_validation))\n",
    "            sys.stderr.flush()\n",
    "\n",
    "            self.eval_['cost'].append(cost)\n",
    "            self.eval_['train_mse'].append(mse_training)\n",
    "            self.eval_['valid_mse'].append(mse_validation)\n",
    "        \n",
    "    def evaluate(self,X,y):\n",
    "        \n",
    "        y_pred=self.predict(X)\n",
    "        mse=np.mean(np.square(y-y_pred))\n",
    "        print(\"mean squared error:{}\".format(mse))\n",
    "        \n",
    "    def predict(self,X):\n",
    "        \n",
    "        if(self.mlp==None):\n",
    "            print(\"model not trained\")\n",
    "        else:\n",
    "            predictions=self.mlp.predict(X)\n",
    "        \n",
    "        return predictions\n"
   ]
  },
  {
   "cell_type": "code",
   "execution_count": null,
   "id": "40558904-fedf-4180-aba4-b7fad4412b6a",
   "metadata": {},
   "outputs": [],
   "source": []
  }
 ],
 "metadata": {
  "kernelspec": {
   "display_name": "Python 3 (ipykernel)",
   "language": "python",
   "name": "python3"
  },
  "language_info": {
   "codemirror_mode": {
    "name": "ipython",
    "version": 3
   },
   "file_extension": ".py",
   "mimetype": "text/x-python",
   "name": "python",
   "nbconvert_exporter": "python",
   "pygments_lexer": "ipython3",
   "version": "3.9.7"
  }
 },
 "nbformat": 4,
 "nbformat_minor": 5
}
